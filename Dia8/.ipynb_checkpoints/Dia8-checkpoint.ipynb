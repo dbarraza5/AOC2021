{
 "cells": [
  {
   "cell_type": "code",
   "execution_count": 1,
   "metadata": {},
   "outputs": [],
   "source": [
    "import pandas as pd \n",
    "import numpy as np"
   ]
  },
  {
   "cell_type": "code",
   "execution_count": 44,
   "metadata": {},
   "outputs": [
    {
     "data": {
      "text/html": [
       "<div>\n",
       "<style scoped>\n",
       "    .dataframe tbody tr th:only-of-type {\n",
       "        vertical-align: middle;\n",
       "    }\n",
       "\n",
       "    .dataframe tbody tr th {\n",
       "        vertical-align: top;\n",
       "    }\n",
       "\n",
       "    .dataframe thead th {\n",
       "        text-align: right;\n",
       "    }\n",
       "</style>\n",
       "<table border=\"1\" class=\"dataframe\">\n",
       "  <thead>\n",
       "    <tr style=\"text-align: right;\">\n",
       "      <th></th>\n",
       "      <th>0</th>\n",
       "      <th>1</th>\n",
       "    </tr>\n",
       "  </thead>\n",
       "  <tbody>\n",
       "    <tr>\n",
       "      <th>0</th>\n",
       "      <td>be cfbegad cbdgef fgaecd cgeb fdcge agebfd fec...</td>\n",
       "      <td>fdgacbe cefdb cefbgd gcbe</td>\n",
       "    </tr>\n",
       "    <tr>\n",
       "      <th>1</th>\n",
       "      <td>edbfga begcd cbg gc gcadebf fbgde acbgfd abcde...</td>\n",
       "      <td>fcgedb cgb dgebacf gc</td>\n",
       "    </tr>\n",
       "    <tr>\n",
       "      <th>2</th>\n",
       "      <td>fgaebd cg bdaec gdafb agbcfd gdcbef bgcad gfac...</td>\n",
       "      <td>cg cg fdcagb cbg</td>\n",
       "    </tr>\n",
       "    <tr>\n",
       "      <th>3</th>\n",
       "      <td>fbegcd cbd adcefb dageb afcb bc aefdc ecdab fg...</td>\n",
       "      <td>efabcd cedba gadfec cb</td>\n",
       "    </tr>\n",
       "    <tr>\n",
       "      <th>4</th>\n",
       "      <td>aecbfdg fbg gf bafeg dbefa fcge gcbea fcaegb d...</td>\n",
       "      <td>gecf egdcabf bgf bfgea</td>\n",
       "    </tr>\n",
       "  </tbody>\n",
       "</table>\n",
       "</div>"
      ],
      "text/plain": [
       "                                                   0  \\\n",
       "0  be cfbegad cbdgef fgaecd cgeb fdcge agebfd fec...   \n",
       "1  edbfga begcd cbg gc gcadebf fbgde acbgfd abcde...   \n",
       "2  fgaebd cg bdaec gdafb agbcfd gdcbef bgcad gfac...   \n",
       "3  fbegcd cbd adcefb dageb afcb bc aefdc ecdab fg...   \n",
       "4  aecbfdg fbg gf bafeg dbefa fcge gcbea fcaegb d...   \n",
       "\n",
       "                            1  \n",
       "0   fdgacbe cefdb cefbgd gcbe  \n",
       "1       fcgedb cgb dgebacf gc  \n",
       "2            cg cg fdcagb cbg  \n",
       "3      efabcd cedba gadfec cb  \n",
       "4      gecf egdcabf bgf bfgea  "
      ]
     },
     "execution_count": 44,
     "metadata": {},
     "output_type": "execute_result"
    }
   ],
   "source": [
    "df = pd.read_csv(\"digitos.txt\", sep=\"|\", header=None)\n",
    "df.head()"
   ]
  },
  {
   "cell_type": "code",
   "execution_count": 13,
   "metadata": {},
   "outputs": [
    {
     "data": {
      "text/html": [
       "<div>\n",
       "<style scoped>\n",
       "    .dataframe tbody tr th:only-of-type {\n",
       "        vertical-align: middle;\n",
       "    }\n",
       "\n",
       "    .dataframe tbody tr th {\n",
       "        vertical-align: top;\n",
       "    }\n",
       "\n",
       "    .dataframe thead th {\n",
       "        text-align: right;\n",
       "    }\n",
       "</style>\n",
       "<table border=\"1\" class=\"dataframe\">\n",
       "  <thead>\n",
       "    <tr style=\"text-align: right;\">\n",
       "      <th></th>\n",
       "      <th>0</th>\n",
       "      <th>1</th>\n",
       "      <th>2</th>\n",
       "      <th>3</th>\n",
       "      <th>4</th>\n",
       "      <th>5</th>\n",
       "      <th>6</th>\n",
       "      <th>7</th>\n",
       "      <th>8</th>\n",
       "      <th>9</th>\n",
       "    </tr>\n",
       "  </thead>\n",
       "  <tbody>\n",
       "    <tr>\n",
       "      <th>0</th>\n",
       "      <td>be</td>\n",
       "      <td>cfbegad</td>\n",
       "      <td>cbdgef</td>\n",
       "      <td>fgaecd</td>\n",
       "      <td>cgeb</td>\n",
       "      <td>fdcge</td>\n",
       "      <td>agebfd</td>\n",
       "      <td>fecdb</td>\n",
       "      <td>fabcd</td>\n",
       "      <td>edb</td>\n",
       "    </tr>\n",
       "    <tr>\n",
       "      <th>1</th>\n",
       "      <td>edbfga</td>\n",
       "      <td>begcd</td>\n",
       "      <td>cbg</td>\n",
       "      <td>gc</td>\n",
       "      <td>gcadebf</td>\n",
       "      <td>fbgde</td>\n",
       "      <td>acbgfd</td>\n",
       "      <td>abcde</td>\n",
       "      <td>gfcbed</td>\n",
       "      <td>gfec</td>\n",
       "    </tr>\n",
       "    <tr>\n",
       "      <th>2</th>\n",
       "      <td>fgaebd</td>\n",
       "      <td>cg</td>\n",
       "      <td>bdaec</td>\n",
       "      <td>gdafb</td>\n",
       "      <td>agbcfd</td>\n",
       "      <td>gdcbef</td>\n",
       "      <td>bgcad</td>\n",
       "      <td>gfac</td>\n",
       "      <td>gcb</td>\n",
       "      <td>cdgabef</td>\n",
       "    </tr>\n",
       "    <tr>\n",
       "      <th>3</th>\n",
       "      <td>fbegcd</td>\n",
       "      <td>cbd</td>\n",
       "      <td>adcefb</td>\n",
       "      <td>dageb</td>\n",
       "      <td>afcb</td>\n",
       "      <td>bc</td>\n",
       "      <td>aefdc</td>\n",
       "      <td>ecdab</td>\n",
       "      <td>fgdeca</td>\n",
       "      <td>fcdbega</td>\n",
       "    </tr>\n",
       "    <tr>\n",
       "      <th>4</th>\n",
       "      <td>aecbfdg</td>\n",
       "      <td>fbg</td>\n",
       "      <td>gf</td>\n",
       "      <td>bafeg</td>\n",
       "      <td>dbefa</td>\n",
       "      <td>fcge</td>\n",
       "      <td>gcbea</td>\n",
       "      <td>fcaegb</td>\n",
       "      <td>dgceab</td>\n",
       "      <td>fcbdga</td>\n",
       "    </tr>\n",
       "  </tbody>\n",
       "</table>\n",
       "</div>"
      ],
      "text/plain": [
       "         0        1       2       3        4       5       6       7       8  \\\n",
       "0       be  cfbegad  cbdgef  fgaecd     cgeb   fdcge  agebfd   fecdb   fabcd   \n",
       "1   edbfga    begcd     cbg      gc  gcadebf   fbgde  acbgfd   abcde  gfcbed   \n",
       "2   fgaebd       cg   bdaec   gdafb   agbcfd  gdcbef   bgcad    gfac     gcb   \n",
       "3   fbegcd      cbd  adcefb   dageb     afcb      bc   aefdc   ecdab  fgdeca   \n",
       "4  aecbfdg      fbg      gf   bafeg    dbefa    fcge   gcbea  fcaegb  dgceab   \n",
       "\n",
       "          9  \n",
       "0      edb   \n",
       "1     gfec   \n",
       "2  cdgabef   \n",
       "3  fcdbega   \n",
       "4   fcbdga   "
      ]
     },
     "execution_count": 13,
     "metadata": {},
     "output_type": "execute_result"
    }
   ],
   "source": [
    "df_entrada = df[0].str.split(\" \",n = 9, expand = True)\n",
    "df_entrada.head()"
   ]
  },
  {
   "cell_type": "code",
   "execution_count": 45,
   "metadata": {},
   "outputs": [],
   "source": [
    "df_entrada[9] = df_entrada[9].str.strip()"
   ]
  },
  {
   "cell_type": "code",
   "execution_count": 15,
   "metadata": {},
   "outputs": [
    {
     "data": {
      "text/html": [
       "<div>\n",
       "<style scoped>\n",
       "    .dataframe tbody tr th:only-of-type {\n",
       "        vertical-align: middle;\n",
       "    }\n",
       "\n",
       "    .dataframe tbody tr th {\n",
       "        vertical-align: top;\n",
       "    }\n",
       "\n",
       "    .dataframe thead th {\n",
       "        text-align: right;\n",
       "    }\n",
       "</style>\n",
       "<table border=\"1\" class=\"dataframe\">\n",
       "  <thead>\n",
       "    <tr style=\"text-align: right;\">\n",
       "      <th></th>\n",
       "      <th>0</th>\n",
       "      <th>1</th>\n",
       "      <th>2</th>\n",
       "      <th>3</th>\n",
       "      <th>4</th>\n",
       "    </tr>\n",
       "  </thead>\n",
       "  <tbody>\n",
       "    <tr>\n",
       "      <th>0</th>\n",
       "      <td></td>\n",
       "      <td>fdgacbe</td>\n",
       "      <td>cefdb</td>\n",
       "      <td>cefbgd</td>\n",
       "      <td>gcbe</td>\n",
       "    </tr>\n",
       "    <tr>\n",
       "      <th>1</th>\n",
       "      <td></td>\n",
       "      <td>fcgedb</td>\n",
       "      <td>cgb</td>\n",
       "      <td>dgebacf</td>\n",
       "      <td>gc</td>\n",
       "    </tr>\n",
       "    <tr>\n",
       "      <th>2</th>\n",
       "      <td></td>\n",
       "      <td>cg</td>\n",
       "      <td>cg</td>\n",
       "      <td>fdcagb</td>\n",
       "      <td>cbg</td>\n",
       "    </tr>\n",
       "    <tr>\n",
       "      <th>3</th>\n",
       "      <td></td>\n",
       "      <td>efabcd</td>\n",
       "      <td>cedba</td>\n",
       "      <td>gadfec</td>\n",
       "      <td>cb</td>\n",
       "    </tr>\n",
       "    <tr>\n",
       "      <th>4</th>\n",
       "      <td></td>\n",
       "      <td>gecf</td>\n",
       "      <td>egdcabf</td>\n",
       "      <td>bgf</td>\n",
       "      <td>bfgea</td>\n",
       "    </tr>\n",
       "  </tbody>\n",
       "</table>\n",
       "</div>"
      ],
      "text/plain": [
       "  0        1        2        3      4\n",
       "0    fdgacbe    cefdb   cefbgd   gcbe\n",
       "1     fcgedb      cgb  dgebacf     gc\n",
       "2         cg       cg   fdcagb    cbg\n",
       "3     efabcd    cedba   gadfec     cb\n",
       "4       gecf  egdcabf      bgf  bfgea"
      ]
     },
     "execution_count": 15,
     "metadata": {},
     "output_type": "execute_result"
    }
   ],
   "source": [
    "df_salida = df[1].str.split(\" \",n = 4, expand = True)\n",
    "df_salida.head()"
   ]
  },
  {
   "cell_type": "code",
   "execution_count": 49,
   "metadata": {},
   "outputs": [],
   "source": [
    "df_salida[0] = df_salida[0].str.strip()"
   ]
  },
  {
   "cell_type": "markdown",
   "metadata": {},
   "source": [
    "### resolviendo el puzzle"
   ]
  },
  {
   "cell_type": "code",
   "execution_count": 105,
   "metadata": {},
   "outputs": [
    {
     "data": {
      "text/plain": [
       "{0: 'abcefg',\n",
       " 1: 'cf',\n",
       " 2: 'acdeg',\n",
       " 3: 'acdfg',\n",
       " 4: 'bcdf',\n",
       " 5: 'abdefg',\n",
       " 6: 'abdefg',\n",
       " 7: 'adf',\n",
       " 8: 'abcdefg',\n",
       " 9: 'abcdfg'}"
      ]
     },
     "execution_count": 105,
     "metadata": {},
     "output_type": "execute_result"
    }
   ],
   "source": [
    "elementos_digitos = {0: \"abcefg\", 1:\"cf\", 2:\"acdeg\", 3:\"acdfg\", 4:\"bcdf\",\n",
    "                    5:\"abdefg\", 6:\"abdefg\", 7:\"adf\", 8:\"abcdefg\", 9:\"abcdfg\"}\n",
    "elementos_digitos"
   ]
  },
  {
   "cell_type": "code",
   "execution_count": 106,
   "metadata": {},
   "outputs": [],
   "source": [
    "## a : b, e: g, ... ,\n",
    "mapa_elementos = {}"
   ]
  },
  {
   "cell_type": "code",
   "execution_count": 50,
   "metadata": {},
   "outputs": [
    {
     "data": {
      "text/plain": [
       "0         be\n",
       "1    cfbegad\n",
       "2     cbdgef\n",
       "3     fgaecd\n",
       "4       cgeb\n",
       "5      fdcge\n",
       "6     agebfd\n",
       "7      fecdb\n",
       "8      fabcd\n",
       "9        edb\n",
       "Name: 0, dtype: object"
      ]
     },
     "execution_count": 50,
     "metadata": {},
     "output_type": "execute_result"
    }
   ],
   "source": [
    "entrada = df_entrada.iloc[0]\n",
    "entrada"
   ]
  },
  {
   "cell_type": "code",
   "execution_count": 23,
   "metadata": {},
   "outputs": [
    {
     "data": {
      "text/plain": [
       "0         be\n",
       "1    cfbegad\n",
       "4       cgeb\n",
       "9       edb \n",
       "Name: 0, dtype: object"
      ]
     },
     "execution_count": 23,
     "metadata": {},
     "output_type": "execute_result"
    }
   ],
   "source": [
    "entrada[entrada.apply(lambda x: len(x) in [2, 3, 4, 7])]"
   ]
  },
  {
   "cell_type": "code",
   "execution_count": 32,
   "metadata": {},
   "outputs": [
    {
     "data": {
      "text/plain": [
       "0         be\n",
       "1    cfbegad\n",
       "4       cgeb\n",
       "9       edb \n",
       "Name: 0, dtype: object"
      ]
     },
     "execution_count": 32,
     "metadata": {},
     "output_type": "execute_result"
    }
   ],
   "source": [
    "entrada[np.in1d(entrada.str.len(), [2, 3, 4, 7])]"
   ]
  },
  {
   "cell_type": "code",
   "execution_count": 63,
   "metadata": {},
   "outputs": [
    {
     "data": {
      "text/plain": [
       "array(['be', 'edb', 'cgeb', 'cfbegad'], dtype='<U7')"
      ]
     },
     "execution_count": 63,
     "metadata": {},
     "output_type": "execute_result"
    }
   ],
   "source": [
    "#accediendo a una fila del dataframe\n",
    "entrada = df_entrada.iloc[0]\n",
    "#encontrando los digitos que son unicos en el largo de su tamaño\n",
    "digitos_unicos = entrada[np.in1d(entrada.str.len(), [2, 3, 4, 7])]\n",
    "#ordenando la secuencia para ser mas rapido el acceso a cada digito segun su tamaño\n",
    "l = list(digitos_unicos)\n",
    "l.sort(key=lambda s: len(s))\n",
    "#volviendo a convertirlo a array de numpy\n",
    "digitos_unicos = np.array(l)\n",
    "digitos_unicos"
   ]
  },
  {
   "cell_type": "code",
   "execution_count": 86,
   "metadata": {},
   "outputs": [
    {
     "data": {
      "text/plain": [
       "{1: 'be', 7: 'edb', 4: 'cgeb', 8: 'cfbegad'}"
      ]
     },
     "execution_count": 86,
     "metadata": {},
     "output_type": "execute_result"
    }
   ],
   "source": [
    "digitos_reconocidos = {1: digitos_unicos[0], 7: digitos_unicos[1], 4: digitos_unicos[2], 8:digitos_unicos[3]}\n",
    "digitos_reconocidos"
   ]
  },
  {
   "cell_type": "code",
   "execution_count": 109,
   "metadata": {},
   "outputs": [
    {
     "data": {
      "text/plain": [
       "{'a': 'd'}"
      ]
     },
     "execution_count": 109,
     "metadata": {},
     "output_type": "execute_result"
    }
   ],
   "source": [
    "#encontrado la primera la letra que ocupa la posicion aaaa\n",
    "letra_1 = set(digitos_unicos[1]) - set(digitos_unicos[0])\n",
    "mapa_elementos[\"a\"] = list(letra_1)[0]\n",
    "mapa_elementos"
   ]
  },
  {
   "cell_type": "code",
   "execution_count": 82,
   "metadata": {},
   "outputs": [
    {
     "data": {
      "text/plain": [
       "{'c', 'd', 'e', 'f', 'g'}"
      ]
     },
     "execution_count": 82,
     "metadata": {},
     "output_type": "execute_result"
    }
   ],
   "source": [
    "#seleccionando  los digitos no etiquetado de 2, 5 y 3\n",
    "digit_2_5_3 = entrada[entrada.str.len()==5]\n",
    "digx1 = set(digit_2_5_3.iloc[0])\n",
    "digx2 = set(digit_2_5_3.iloc[1])\n",
    "digx3 = set(digit_2_5_3.iloc[2])\n",
    "digx1"
   ]
  },
  {
   "cell_type": "code",
   "execution_count": 89,
   "metadata": {},
   "outputs": [
    {
     "data": {
      "text/plain": [
       "{'b', 'e'}"
      ]
     },
     "execution_count": 89,
     "metadata": {},
     "output_type": "execute_result"
    }
   ],
   "source": [
    "digito1_e = set(digitos_unicos[0])\n",
    "digito1_e"
   ]
  },
  {
   "cell_type": "code",
   "execution_count": 90,
   "metadata": {},
   "outputs": [
    {
     "data": {
      "text/plain": [
       "{'b'}"
      ]
     },
     "execution_count": 90,
     "metadata": {},
     "output_type": "execute_result"
    }
   ],
   "source": [
    "digito1_e = set(digitos_unicos[0])\n",
    "digito1_e - digx1"
   ]
  },
  {
   "cell_type": "code",
   "execution_count": 91,
   "metadata": {},
   "outputs": [
    {
     "data": {
      "text/plain": [
       "set()"
      ]
     },
     "execution_count": 91,
     "metadata": {},
     "output_type": "execute_result"
    }
   ],
   "source": [
    "# tolos los elementos de 1  estan presentes en los elementos de 3\n",
    "digito1_e - digx2"
   ]
  },
  {
   "cell_type": "code",
   "execution_count": 92,
   "metadata": {},
   "outputs": [
    {
     "data": {
      "text/plain": [
       "{'e'}"
      ]
     },
     "execution_count": 92,
     "metadata": {},
     "output_type": "execute_result"
    }
   ],
   "source": [
    "digito1_e - digx3"
   ]
  },
  {
   "cell_type": "code",
   "execution_count": 96,
   "metadata": {},
   "outputs": [],
   "source": [
    "digitos_reconocidos[3] = digit_2_5_3.iloc[1]"
   ]
  },
  {
   "cell_type": "code",
   "execution_count": 97,
   "metadata": {},
   "outputs": [
    {
     "data": {
      "text/plain": [
       "{1: 'be', 7: 'edb', 4: 'cgeb', 8: 'cfbegad', 3: 'fecdb'}"
      ]
     },
     "execution_count": 97,
     "metadata": {},
     "output_type": "execute_result"
    }
   ],
   "source": [
    "digitos_reconocidos"
   ]
  },
  {
   "cell_type": "code",
   "execution_count": 101,
   "metadata": {},
   "outputs": [
    {
     "data": {
      "text/plain": [
       "{'b', 'c', 'e', 'g'}"
      ]
     },
     "execution_count": 101,
     "metadata": {},
     "output_type": "execute_result"
    }
   ],
   "source": [
    "digito4_e = set(digitos_reconocidos[4])\n",
    "digito4_e"
   ]
  },
  {
   "cell_type": "code",
   "execution_count": 102,
   "metadata": {},
   "outputs": [
    {
     "data": {
      "text/plain": [
       "{'b'}"
      ]
     },
     "execution_count": 102,
     "metadata": {},
     "output_type": "execute_result"
    }
   ],
   "source": [
    "digito4_e - digx1"
   ]
  },
  {
   "cell_type": "code",
   "execution_count": 103,
   "metadata": {},
   "outputs": [
    {
     "data": {
      "text/plain": [
       "{'e', 'g'}"
      ]
     },
     "execution_count": 103,
     "metadata": {},
     "output_type": "execute_result"
    }
   ],
   "source": [
    "digito4_e - digx3"
   ]
  },
  {
   "cell_type": "code",
   "execution_count": 110,
   "metadata": {},
   "outputs": [
    {
     "data": {
      "text/plain": [
       "{'b', 'c', 'e', 'g'}"
      ]
     },
     "execution_count": 110,
     "metadata": {},
     "output_type": "execute_result"
    }
   ],
   "source": [
    "digito4_e"
   ]
  },
  {
   "cell_type": "code",
   "execution_count": 113,
   "metadata": {},
   "outputs": [
    {
     "data": {
      "text/plain": [
       "array(['c', 'g', 'e', 'b'], dtype='<U1')"
      ]
     },
     "execution_count": 113,
     "metadata": {},
     "output_type": "execute_result"
    }
   ],
   "source": [
    "np.array(list(digitos_reconocidos[4]))"
   ]
  },
  {
   "cell_type": "code",
   "execution_count": null,
   "metadata": {},
   "outputs": [],
   "source": []
  }
 ],
 "metadata": {
  "kernelspec": {
   "display_name": "Python 3",
   "language": "python",
   "name": "python3"
  },
  "language_info": {
   "codemirror_mode": {
    "name": "ipython",
    "version": 3
   },
   "file_extension": ".py",
   "mimetype": "text/x-python",
   "name": "python",
   "nbconvert_exporter": "python",
   "pygments_lexer": "ipython3",
   "version": "3.8.5"
  }
 },
 "nbformat": 4,
 "nbformat_minor": 4
}
