{
 "cells": [
  {
   "cell_type": "markdown",
   "metadata": {},
   "source": [
    "<h2>--- Day 12: Passage Pathing ---</h2><p>With your <span title=\"Sublime.\">submarine's subterranean subsystems subsisting suboptimally</span>, the only way you're getting out of this cave anytime soon is by finding a path yourself. Not just <em>a</em> path - the only way to know if you've found the <em>best</em> path is to find <em>all</em> of them.</p>\n",
    "<p>Fortunately, the sensors are still mostly working, and so you build a rough map of the remaining caves (your puzzle input). For example:</p>\n",
    "<pre><code>start-A\n",
    "start-b\n",
    "A-c\n",
    "A-b\n",
    "b-d\n",
    "A-end\n",
    "b-end\n",
    "</code></pre>\n",
    "<p>This is a list of how all of the caves are connected. You start in the cave named <code>start</code>, and your destination is the cave named <code>end</code>. An entry like <code>b-d</code> means that cave <code>b</code> is connected to cave <code>d</code> - that is, you can move between them.</p>\n",
    "<p>So, the above cave system looks roughly like this:</p>\n",
    "<pre><code>    start\n",
    "    /   \\\n",
    "c--A-----b--d\n",
    "    \\   /\n",
    "     end\n",
    "</code></pre>\n",
    "<p>Your goal is to find the number of distinct <em>paths</em> that start at <code>start</code>, end at <code>end</code>, and don't visit small caves more than once. There are two types of caves: <em>big</em> caves (written in uppercase, like <code>A</code>) and <em>small</em> caves (written in lowercase, like <code>b</code>). It would be a waste of time to visit any small cave more than once, but big caves are large enough that it might be worth visiting them multiple times. So, all paths you find should <em>visit small caves at most once</em>, and can <em>visit big caves any number of times</em>.</p>\n",
    "<p>Given these rules, there are <code><em>10</em></code> paths through this example cave system:</p>\n",
    "<pre><code>start,A,b,A,c,A,end\n",
    "start,A,b,A,end\n",
    "start,A,b,end\n",
    "start,A,c,A,b,A,end\n",
    "start,A,c,A,b,end\n",
    "start,A,c,A,end\n",
    "start,A,end\n",
    "start,b,A,c,A,end\n",
    "start,b,A,end\n",
    "start,b,end\n",
    "</code></pre>\n",
    "<p>(Each line in the above list corresponds to a single path; the caves visited by that path are listed in the order they are visited and separated by commas.)</p>\n",
    "<p>Note that in this cave system, cave <code>d</code> is never visited by any path: to do so, cave <code>b</code> would need to be visited twice (once on the way to cave <code>d</code> and a second time when returning from cave <code>d</code>), and since cave <code>b</code> is small, this is not allowed.</p>\n",
    "<p>Here is a slightly larger example:</p>\n",
    "<pre><code>dc-end\n",
    "HN-start\n",
    "start-kj\n",
    "dc-start\n",
    "dc-HN\n",
    "LN-dc\n",
    "HN-end\n",
    "kj-sa\n",
    "kj-HN\n",
    "kj-dc\n",
    "</code></pre>\n",
    "<p>The <code>19</code> paths through it are as follows:</p>\n",
    "<pre><code>start,HN,dc,HN,end\n",
    "start,HN,dc,HN,kj,HN,end\n",
    "start,HN,dc,end\n",
    "start,HN,dc,kj,HN,end\n",
    "start,HN,end\n",
    "start,HN,kj,HN,dc,HN,end\n",
    "start,HN,kj,HN,dc,end\n",
    "start,HN,kj,HN,end\n",
    "start,HN,kj,dc,HN,end\n",
    "start,HN,kj,dc,end\n",
    "start,dc,HN,end\n",
    "start,dc,HN,kj,HN,end\n",
    "start,dc,end\n",
    "start,dc,kj,HN,end\n",
    "start,kj,HN,dc,HN,end\n",
    "start,kj,HN,dc,end\n",
    "start,kj,HN,end\n",
    "start,kj,dc,HN,end\n",
    "start,kj,dc,end\n",
    "</code></pre>\n",
    "<p>Finally, this even larger example has <code>226</code> paths through it:</p>\n",
    "<pre><code>fs-end\n",
    "he-DX\n",
    "fs-he\n",
    "start-DX\n",
    "pj-DX\n",
    "end-zg\n",
    "zg-sl\n",
    "zg-pj\n",
    "pj-he\n",
    "RW-he\n",
    "fs-DX\n",
    "pj-RW\n",
    "zg-RW\n",
    "start-pj\n",
    "he-WI\n",
    "zg-he\n",
    "pj-fs\n",
    "start-RW\n",
    "</code></pre>\n",
    "<p><em>How many paths through this cave system are there that visit small caves at most once?</em></p>\n"
   ]
  },
  {
   "cell_type": "code",
   "execution_count": 1,
   "metadata": {},
   "outputs": [],
   "source": [
    "import pandas as pd\n",
    "import numpy as np"
   ]
  },
  {
   "cell_type": "code",
   "execution_count": 448,
   "metadata": {},
   "outputs": [
    {
     "data": {
      "text/html": [
       "<div>\n",
       "<style scoped>\n",
       "    .dataframe tbody tr th:only-of-type {\n",
       "        vertical-align: middle;\n",
       "    }\n",
       "\n",
       "    .dataframe tbody tr th {\n",
       "        vertical-align: top;\n",
       "    }\n",
       "\n",
       "    .dataframe thead th {\n",
       "        text-align: right;\n",
       "    }\n",
       "</style>\n",
       "<table border=\"1\" class=\"dataframe\">\n",
       "  <thead>\n",
       "    <tr style=\"text-align: right;\">\n",
       "      <th></th>\n",
       "      <th>c1</th>\n",
       "      <th>c2</th>\n",
       "    </tr>\n",
       "  </thead>\n",
       "  <tbody>\n",
       "    <tr>\n",
       "      <th>0</th>\n",
       "      <td>xx</td>\n",
       "      <td>xh</td>\n",
       "    </tr>\n",
       "    <tr>\n",
       "      <th>1</th>\n",
       "      <td>vx</td>\n",
       "      <td>qc</td>\n",
       "    </tr>\n",
       "    <tr>\n",
       "      <th>2</th>\n",
       "      <td>cu</td>\n",
       "      <td>wf</td>\n",
       "    </tr>\n",
       "    <tr>\n",
       "      <th>3</th>\n",
       "      <td>ny</td>\n",
       "      <td>LO</td>\n",
       "    </tr>\n",
       "    <tr>\n",
       "      <th>4</th>\n",
       "      <td>cu</td>\n",
       "      <td>DR</td>\n",
       "    </tr>\n",
       "  </tbody>\n",
       "</table>\n",
       "</div>"
      ],
      "text/plain": [
       "   c1  c2\n",
       "0  xx  xh\n",
       "1  vx  qc\n",
       "2  cu  wf\n",
       "3  ny  LO\n",
       "4  cu  DR"
      ]
     },
     "execution_count": 448,
     "metadata": {},
     "output_type": "execute_result"
    }
   ],
   "source": [
    "df = pd.read_csv(\"rutas.txt\",sep=\"-\",header=None, names=[\"c1\", \"c2\"])\n",
    "df.head()"
   ]
  },
  {
   "cell_type": "code",
   "execution_count": 449,
   "metadata": {},
   "outputs": [],
   "source": [
    "df_mapa = df"
   ]
  },
  {
   "cell_type": "code",
   "execution_count": 450,
   "metadata": {},
   "outputs": [],
   "source": [
    "l_ = np.concatenate((df[\"c1\"], df[\"c2\"]), axis=None)\n",
    "l_ = np.unique(l_)\n",
    "l_cuevas = l_"
   ]
  },
  {
   "cell_type": "code",
   "execution_count": 451,
   "metadata": {},
   "outputs": [],
   "source": [
    "inf_mapa = {}\n",
    "finales = df[df[\"c2\"] == \"end\"][\"c1\"]\n",
    "for c in l_cuevas:\n",
    "    inf_mapa[c] = {\n",
    "        \"visitado\" : False,\n",
    "        \"lower\" : c.islower(),\n",
    "        \"comienzo\": c == \"start\",\n",
    "        \"final\": c == \"end\", \n",
    "        \"conexiones\" : []\n",
    "    }\n",
    "#creando las conecciones de las cuevas\n",
    "for i in range(df.shape[0]):\n",
    "    fila = df.iloc[i]\n",
    "    inf_mapa[fila[\"c1\"]][\"conexiones\"].append(fila[\"c2\"])\n",
    "    inf_mapa[fila[\"c2\"]][\"conexiones\"].append(fila[\"c1\"])"
   ]
  },
  {
   "cell_type": "code",
   "execution_count": 452,
   "metadata": {},
   "outputs": [],
   "source": [
    "class EstadoRuta():\n",
    "    def __init__(self, inf_mapa):\n",
    "        self.traz_mapa = inf_mapa\n",
    "        self.cueva_actual = \"start\"\n",
    "        self.ruta_actual = []\n",
    "        self.cuevas_reduc =[]\n",
    "        self.lista_rutas = []\n",
    "    def imprimir(self):\n",
    "        print(\"cueva actual:    \",self.cueva_actual)\n",
    "        print(\"ruta actual:     \",self.ruta_actual)\n",
    "        print(\"cueva reducidas: \",self.cuevas_reduc)\n",
    "        #print(self.lista_rutas)\n"
   ]
  },
  {
   "cell_type": "code",
   "execution_count": 453,
   "metadata": {},
   "outputs": [],
   "source": [
    "def recorrerElMapa1(estado, cueva_actual, ruta_actual, cuevas_reduc):\n",
    "    nodo = estado.traz_mapa[cueva_actual]\n",
    "    if nodo[\"lower\"] and not nodo[\"comienzo\"]:\n",
    "        cuevas_reduc.append(cueva_actual)\n",
    "        \n",
    "    for cueva in nodo[\"conexiones\"]:\n",
    "        n_ady = estado.traz_mapa[cueva]\n",
    "        if cueva == \"start\" or cueva in cuevas_reduc:\n",
    "            continue\n",
    "        ruta_actual.append(cueva)\n",
    "        if n_ady[\"final\"] == False:\n",
    "            estado.ruta_actual\n",
    "            recorrerElMapa1(estado, cueva, ruta_actual.copy(), cuevas_reduc.copy())\n",
    "            ruta_actual.pop()\n",
    "            \n",
    "        if n_ady[\"final\"]:\n",
    "            estado.lista_rutas.append(ruta_actual.copy())"
   ]
  },
  {
   "cell_type": "code",
   "execution_count": 454,
   "metadata": {},
   "outputs": [
    {
     "data": {
      "text/plain": [
       "[['start', 'xx', 'xh', 'DR', 'cu', 'DR', 'qc', 'vx', 'LO', 'ny', 'LO', 'end'],\n",
       " ['start', 'xx', 'xh', 'DR', 'cu', 'DR', 'qc', 'vx', 'LO', 'ny', 'end']]"
      ]
     },
     "execution_count": 454,
     "metadata": {},
     "output_type": "execute_result"
    }
   ],
   "source": [
    "estado = EstadoRuta(inf_mapa)\n",
    "recorrerElMapa1(estado, \"start\", [\"start\"],[])\n",
    "estado.lista_rutas[:2]"
   ]
  },
  {
   "cell_type": "code",
   "execution_count": 455,
   "metadata": {},
   "outputs": [
    {
     "data": {
      "text/plain": [
       "4167"
      ]
     },
     "execution_count": 455,
     "metadata": {},
     "output_type": "execute_result"
    }
   ],
   "source": [
    "len(estado.lista_rutas)"
   ]
  },
  {
   "cell_type": "markdown",
   "metadata": {},
   "source": [
    "<h2 id=\"part2\">--- Part Two ---</h2><p>After reviewing the available paths, you realize you might have time to visit a single small cave <em>twice</em>. Specifically, big caves can be visited any number of times, a single small cave can be visited at most twice, and the remaining small caves can be visited at most once. However, the caves named <code>start</code> and <code>end</code> can only be visited <em>exactly once each</em>: once you leave the <code>start</code> cave, you may not return to it, and once you reach the <code>end</code> cave, the path must end immediately.</p>\n",
    "<p>Now, the <code>36</code> possible paths through the first example above are:</p>\n",
    "<pre><code>start,A,b,A,b,A,c,A,end\n",
    "start,A,b,A,b,A,end\n",
    "start,A,b,A,b,end\n",
    "start,A,b,A,c,A,b,A,end\n",
    "start,A,b,A,c,A,b,end\n",
    "start,A,b,A,c,A,c,A,end\n",
    "start,A,b,A,c,A,end\n",
    "start,A,b,A,end\n",
    "start,A,b,d,b,A,c,A,end\n",
    "start,A,b,d,b,A,end\n",
    "start,A,b,d,b,end\n",
    "start,A,b,end\n",
    "start,A,c,A,b,A,b,A,end\n",
    "start,A,c,A,b,A,b,end\n",
    "start,A,c,A,b,A,c,A,end\n",
    "start,A,c,A,b,A,end\n",
    "start,A,c,A,b,d,b,A,end\n",
    "start,A,c,A,b,d,b,end\n",
    "start,A,c,A,b,end\n",
    "start,A,c,A,c,A,b,A,end\n",
    "start,A,c,A,c,A,b,end\n",
    "start,A,c,A,c,A,end\n",
    "start,A,c,A,end\n",
    "start,A,end\n",
    "start,b,A,b,A,c,A,end\n",
    "start,b,A,b,A,end\n",
    "start,b,A,b,end\n",
    "start,b,A,c,A,b,A,end\n",
    "start,b,A,c,A,b,end\n",
    "start,b,A,c,A,c,A,end\n",
    "start,b,A,c,A,end\n",
    "start,b,A,end\n",
    "start,b,d,b,A,c,A,end\n",
    "start,b,d,b,A,end\n",
    "start,b,d,b,end\n",
    "start,b,end\n",
    "</code></pre>\n",
    "<p>The slightly larger example above now has <code>103</code> paths through it, and the even larger example now has <code>3509</code> paths through it.</p>\n",
    "<p>Given these new rules, <em>how many paths through this cave system are there?</em></p>\n"
   ]
  },
  {
   "cell_type": "code",
   "execution_count": 459,
   "metadata": {},
   "outputs": [],
   "source": [
    "def recorrerElMapa2(estado, cueva_actual, ruta_actual, cuevas_reduc):\n",
    "    nodo = estado.traz_mapa[cueva_actual]\n",
    "    if nodo[\"lower\"] and not nodo[\"comienzo\"]:\n",
    "        cuevas_reduc.append(cueva_actual)\n",
    "        \n",
    "    for cueva in nodo[\"conexiones\"]:\n",
    "        n_ady = estado.traz_mapa[cueva]\n",
    "        # permite la visitar la cueva pequeña mas de 2 veces\n",
    "        no_acceder = len(cuevas_reduc) > len(set(cuevas_reduc)) and cueva in cuevas_reduc\n",
    "        if cueva == \"start\" or no_acceder:\n",
    "            continue\n",
    "        ruta_actual.append(cueva)\n",
    "        if n_ady[\"final\"] == False:\n",
    "            estado.ruta_actual\n",
    "            recorrerElMapa2(estado, cueva, ruta_actual.copy(), cuevas_reduc.copy())\n",
    "            ruta_actual.pop()\n",
    "            \n",
    "        if n_ady[\"final\"]:\n",
    "            estado.lista_rutas.append(ruta_actual.copy())"
   ]
  },
  {
   "cell_type": "code",
   "execution_count": 460,
   "metadata": {},
   "outputs": [
    {
     "data": {
      "text/plain": [
       "[['start', 'xx', 'xh', 'xx', 'cu', 'DR', 'qc', 'vx', 'LO', 'ny', 'LO', 'end'],\n",
       " ['start', 'xx', 'xh', 'xx', 'cu', 'DR', 'qc', 'vx', 'LO', 'ny', 'end']]"
      ]
     },
     "execution_count": 460,
     "metadata": {},
     "output_type": "execute_result"
    }
   ],
   "source": [
    "estado1 = EstadoRuta(inf_mapa)\n",
    "recorrerElMapa2(estado1, \"start\", [\"start\"],[])\n",
    "estado1.lista_rutas[:2]"
   ]
  },
  {
   "cell_type": "code",
   "execution_count": 461,
   "metadata": {},
   "outputs": [
    {
     "data": {
      "text/plain": [
       "98441"
      ]
     },
     "execution_count": 461,
     "metadata": {},
     "output_type": "execute_result"
    }
   ],
   "source": [
    "len(estado1.lista_rutas)"
   ]
  },
  {
   "cell_type": "code",
   "execution_count": null,
   "metadata": {},
   "outputs": [],
   "source": []
  }
 ],
 "metadata": {
  "kernelspec": {
   "display_name": "Python 3",
   "language": "python",
   "name": "python3"
  },
  "language_info": {
   "codemirror_mode": {
    "name": "ipython",
    "version": 3
   },
   "file_extension": ".py",
   "mimetype": "text/x-python",
   "name": "python",
   "nbconvert_exporter": "python",
   "pygments_lexer": "ipython3",
   "version": "3.8.5"
  }
 },
 "nbformat": 4,
 "nbformat_minor": 4
}
